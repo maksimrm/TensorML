{
 "cells": [
  {
   "cell_type": "code",
   "execution_count": 12,
   "metadata": {
    "ExecuteTime": {
     "end_time": "2019-12-02T15:29:20.796547Z",
     "start_time": "2019-12-02T15:29:20.793991Z"
    }
   },
   "outputs": [],
   "source": [
    "import numpy as np\n",
    "from scipy import integrate\n",
    "from scipy.linalg import expm "
   ]
  },
  {
   "cell_type": "code",
   "execution_count": 13,
   "metadata": {
    "ExecuteTime": {
     "end_time": "2019-12-02T15:29:21.050931Z",
     "start_time": "2019-12-02T15:29:21.047657Z"
    }
   },
   "outputs": [],
   "source": [
    "#ПАРАМЕТРЫ МОЕДЕЛИ#\n",
    "J = -1.0\n",
    "g = 0.5\n",
    "chi = 2\n",
    "\n",
    "d = 2\n",
    "delta = 0.005\n",
    "N = 200"
   ]
  },
  {
   "cell_type": "code",
   "execution_count": 14,
   "metadata": {
    "ExecuteTime": {
     "end_time": "2019-12-02T15:29:21.277663Z",
     "start_time": "2019-12-02T15:29:21.273488Z"
    }
   },
   "outputs": [],
   "source": [
    "# Инициализация начального состояние MPS - Придерживаемся канонической формы! САЙТЫ A B - записываются в один массив\n",
    "B = []\n",
    "s = []\n",
    "for i in range(2):\n",
    "    B.append(np.zeros([2, 1, 1]))\n",
    "    B[-1][0, 0, 0] = 1\n",
    "    s.append(np.ones([1]))"
   ]
  },
  {
   "cell_type": "code",
   "execution_count": 15,
   "metadata": {
    "ExecuteTime": {
     "end_time": "2019-12-02T15:29:21.525952Z",
     "start_time": "2019-12-02T15:29:21.521456Z"
    }
   },
   "outputs": [],
   "source": [
    "#ЗАДАНИЕ ОПЕРАТОРА ЭВОЛЮЦИИ#\n",
    "H_bond = np.array([[J, -g / 2, -g / 2, 0], \n",
    "                   [-g / 2, -J, 0, -g / 2],\n",
    "                   [-g / 2, 0, -J, -g / 2], \n",
    "                   [0, -g / 2, -g / 2, J]])\n",
    "U = np.reshape(expm(-delta * H_bond), (2, 2, 2, 2))"
   ]
  },
  {
   "cell_type": "code",
   "execution_count": 43,
   "metadata": {
    "ExecuteTime": {
     "end_time": "2019-12-02T15:57:10.201879Z",
     "start_time": "2019-12-02T15:57:10.101432Z"
    }
   },
   "outputs": [],
   "source": [
    "for step in range(0, N):\n",
    "    for i_bond in [0, 1]:\n",
    "\n",
    "        ia = np.mod(i_bond - 1, 2)\n",
    "        ib = np.mod(i_bond, 2)\n",
    "        ic = np.mod(i_bond + 1, 2)\n",
    "        chia = B[ib].shape[1]\n",
    "        chic = B[ic].shape[2]\n",
    "\n",
    "        #СВЁРТКА ЛОКАЛЬНЫХ ТЕНЗОРОВ A  - B #\n",
    "        theta = np.tensordot(B[ib], B[ic], axes=(2, 1))  # i a j b\n",
    "        theta = np.tensordot(U, theta, axes=([2, 3], [0, 2]))  # ip jp a b\n",
    "        theta = np.tensordot(np.diag(s[ia]), theta, axes=([1, 2]))  # a ip jp b\n",
    "        theta = np.reshape(np.transpose(theta, (1, 0, 2, 3)),\n",
    "                           (d * chia, d * chic))  # ip a jp b\n",
    "\n",
    "        # SVD - Разложение Шмидта #\n",
    "        X, Y, Z = np.linalg.svd(theta, full_matrices=0)\n",
    "        chi2 = np.min([np.sum(Y > 10.**(-10)), chi])\n",
    "\n",
    "        piv = np.zeros(len(Y), np.bool)\n",
    "        piv[(np.argsort(Y)[::-1])[:chi2]] = True\n",
    "\n",
    "        Y = Y[piv]\n",
    "        invsq = np.sqrt(sum(Y**2))\n",
    "        X = X[:, piv]\n",
    "        Z = Z[piv, :]\n",
    "\n",
    "        # Обновление состояния#\n",
    "        s[ib] = Y / invsq\n",
    "\n",
    "        X = np.reshape(X, (d, chia, chi2))\n",
    "        X = np.transpose(np.tensordot(np.diag(s[ia]**(-1)), X, axes=(1, 1)),\n",
    "                         (1, 0, 2))\n",
    "        B[ib] = np.tensordot(X, np.diag(s[ib]), axes=(2, 0))\n",
    "\n",
    "        B[ic] = np.transpose(np.reshape(Z, (chi2, d, chic)), (1, 0, 2))"
   ]
  },
  {
   "cell_type": "code",
   "execution_count": 44,
   "metadata": {
    "ExecuteTime": {
     "end_time": "2019-12-02T15:57:12.072551Z",
     "start_time": "2019-12-02T15:57:12.061991Z"
    }
   },
   "outputs": [
    {
     "name": "stdout",
     "output_type": "stream",
     "text": [
      "E_iTEBD = -1.0635289694606316\n",
      "E_exact = -1.063544409973372\n",
      "de =  -1.4517976490299985e-05\n"
     ]
    }
   ],
   "source": [
    "E = []\n",
    "for i_bond in range(2):\n",
    "    BB = np.tensordot(B[i_bond], B[np.mod(i_bond + 1, 2)], axes=(2, 1))\n",
    "    sBB = np.tensordot(np.diag(s[np.mod(i_bond - 1, 2)]), BB, axes=(1, 1))\n",
    "    C = np.tensordot(sBB,\n",
    "                     np.reshape(H_bond, [d, d, d, d]),\n",
    "                     axes=([1, 2], [2, 3]))\n",
    "    sBB = np.conj(sBB)\n",
    "    E.append(\n",
    "        np.squeeze(np.tensordot(sBB, C, axes=([0, 3, 1, 2], [0, 1, 2,\n",
    "                                                             3]))).item())\n",
    "print(\"E_iTEBD =\", np.mean(E))\n",
    "\n",
    "f = lambda k, g: -2 * np.sqrt(1 + g**2 - 2 * g * np.cos(k)) / np.pi / 2.\n",
    "E0_exact = integrate.quad(f, 0, np.pi, args=(g, ))[0]\n",
    "print(\"E_exact =\", E0_exact)\n",
    "print('de = ', (np.mean(E) - E0_exact) / E0_exact)"
   ]
  }
 ],
 "metadata": {
  "kernelspec": {
   "display_name": "Python 3",
   "language": "python",
   "name": "python3"
  },
  "language_info": {
   "codemirror_mode": {
    "name": "ipython",
    "version": 3
   },
   "file_extension": ".py",
   "mimetype": "text/x-python",
   "name": "python",
   "nbconvert_exporter": "python",
   "pygments_lexer": "ipython3",
   "version": "3.7.3"
  },
  "varInspector": {
   "cols": {
    "lenName": 16,
    "lenType": 16,
    "lenVar": 40
   },
   "kernels_config": {
    "python": {
     "delete_cmd_postfix": "",
     "delete_cmd_prefix": "del ",
     "library": "var_list.py",
     "varRefreshCmd": "print(var_dic_list())"
    },
    "r": {
     "delete_cmd_postfix": ") ",
     "delete_cmd_prefix": "rm(",
     "library": "var_list.r",
     "varRefreshCmd": "cat(var_dic_list()) "
    }
   },
   "types_to_exclude": [
    "module",
    "function",
    "builtin_function_or_method",
    "instance",
    "_Feature"
   ],
   "window_display": false
  }
 },
 "nbformat": 4,
 "nbformat_minor": 2
}

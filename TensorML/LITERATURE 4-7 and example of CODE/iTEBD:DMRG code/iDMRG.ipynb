{
 "cells": [
  {
   "cell_type": "code",
   "execution_count": 152,
   "metadata": {},
   "outputs": [],
   "source": [
    "#inf. DMRG#\n",
    "import numpy as np\n",
    "from scipy import integrate\n",
    "import scipy.sparse.linalg.eigen.arpack as arp"
   ]
  },
  {
   "cell_type": "code",
   "execution_count": 153,
   "metadata": {},
   "outputs": [],
   "source": [
    "# Параметры модели константы, размерности связей, число частиц.\n",
    "J=-1.0; g=0.5; chi=5; d=2; N=5000;"
   ]
  },
  {
   "cell_type": "code",
   "execution_count": 154,
   "metadata": {},
   "outputs": [],
   "source": [
    "# Инициализация начального состояние MPS - Придерживаемся канонической формы! САЙТЫ A B - записываются в один массив\n",
    "B=[];s=[]\n",
    "for i in range(2):\n",
    "    B.append(np.zeros([2,1,1])); B[-1][0,0,0]=1\n",
    "    s.append(np.ones([1]))"
   ]
  },
  {
   "cell_type": "code",
   "execution_count": 155,
   "metadata": {},
   "outputs": [],
   "source": [
    "# Задание Гамильтониана, MPO, и окружения.\n",
    "H_bond = np.array( [[J,g/2,g/2,0], [g/2,-J,0,g/2], [g/2,0,-J,g/2], [0,g/2,g/2,J]] )\n",
    "\n",
    "sx = np.array([[0.,1.],[1.,0.]]); sz = np.array([[1.,0.],[0.,-1.]])\n",
    "w = np.zeros((3,3,2,2),dtype=np.float)\n",
    "w[0,:2] = [np.eye(2),sz]\n",
    "w[0:,2] = [g*sx, J*sz, np.eye(2)]\n",
    "\n",
    "Lp = np.zeros([1,1,3]); Lp[0,0,0] = 1.\n",
    "Rp = np.zeros([1,1,3]); Rp[0,0,2] = 1.\n",
    "\n",
    "class hamiltonian(object):\n",
    "    def __init__(self,Lp,Rp,w,dtype=float):\n",
    "        self.Lp = Lp\n",
    "        self.Rp = Rp\n",
    "        self.w = w\n",
    "        self.d = w.shape[3]\n",
    "        self.chia = Lp.shape[0]\n",
    "        self.chib = Rp.shape[0]\n",
    "        self.shape = np.array([self.d**2*self.chia*self.chib,self.d**2*self.chia*self.chib])\n",
    "        self.dtype = dtype\n",
    "\n",
    "    def matvec(self,x): #RESHAPE #\n",
    "        x=np.reshape(x,(self.d,self.chia,self.d,self.chib))\n",
    "        x=np.tensordot(self.Lp,x,axes=(0,1))  #Сворачиваем с окружением слева#\n",
    "        x=np.tensordot(x,self.w,axes=([1,2],[0,2])) # Умножением на MPO матрицу#\n",
    "        x=np.tensordot(x,self.w,axes=([3,1],[0,2])) # Умножением на MPO матрицу#\n",
    "        x=np.tensordot(x,self.Rp,axes=([1,3],[0,2])) #Сворачиваем с окружением справа#\n",
    "        x=np.reshape(np.transpose(x,(1,0,2,3)),((self.d*self.d)*(self.chia*self.chib)))\n",
    "        if(self.dtype==float):\n",
    "            return np.real(x)\n",
    "        else:\n",
    "            return(x)\n"
   ]
  },
  {
   "cell_type": "code",
   "execution_count": 156,
   "metadata": {},
   "outputs": [],
   "source": [
    "# Итерации. \n",
    "for step in range(N):\n",
    "    E=[]\n",
    "    for i_bond in [0,1]:\n",
    "        ia = np.mod(i_bond-1,2); ib = np.mod(i_bond,2); ic = np.mod(i_bond+1,2) \n",
    "        #Эта хитрая запись подходит для того, чтобы удобно задавать связь между сайтами A и B\n",
    "        chia = B[ib].shape[1]; chic = B[ic].shape[2]\n",
    "        \n",
    "        # Свёртка n, n+1 #\n",
    "        theta0 = np.tensordot(np.diag(s[ia]),np.tensordot(B[ib],B[ic],axes=(2,1)),axes=(1,1))\n",
    "        theta0 = np.reshape(np.transpose(theta0,(1,0,2,3)),((chia*chic)*(d**2)))\n",
    "\n",
    "        # Диаганолизация Гамильтониана#\n",
    "        H = hamiltonian(Lp,Rp,w,dtype=float)\n",
    "        e0,v0 = arp.eigsh(H,k=1,which='SA',return_eigenvectors=True,v0=theta0)\n",
    "        theta = np.reshape(v0.squeeze(),(d*chia,d*chic));\n",
    "\n",
    "        # Разложение Шмидта - SVD #\n",
    "        X, Y, Z = np.linalg.svd(theta); Z = Z.T\n",
    "        \n",
    "        chib = np.min([np.sum(Y>10.**(-12)), chi]) #ПРОЦЕДУРА ОБРЕЗКИ - ФИКСИРУЕМ РАЗМЕРНОСТЬ MPS ! #\n",
    "        X=np.reshape(X[:d*chia,:chib],(d,chia,chib))\n",
    "        Z=np.transpose(np.reshape(Z[:d*chic,:chib],(d,chic,chib)),(0,2,1))\n",
    "\n",
    "        # Обновление Окружения # - Последовательная свёртка\n",
    "        Lp = np.tensordot(Lp, w, axes=(2,0))\n",
    "        Lp = np.tensordot(Lp, X, axes=([0,3],[1,0]))\n",
    "        Lp = np.tensordot(Lp, np.conj(X), axes=([0,2],[1,0]))\n",
    "        Lp = np.transpose(Lp,(1,2,0))\n",
    "\n",
    "        Rp = np.tensordot(w, Rp, axes=(1,2))\n",
    "        Rp = np.tensordot(np.conj(Z),Rp, axes=([0,2],[2,4]))\n",
    "        Rp = np.tensordot(Z,Rp, axes=([0,2],[2,3]))\n",
    "        \n",
    "        # Обновление MPS сайтов AB + НОРМИРОВКА #\n",
    "        s[ib] = Y[:chib]/np.sqrt(sum(Y[:chib]**2))\n",
    "        B[ib] = np.transpose(np.tensordot(np.diag(s[ia]**(-1)),X,axes=(1,1)),(1,0,2))\n",
    "        B[ib] = np.tensordot(B[ib], np.diag(s[ib]),axes=(2,1))\n",
    "        \n",
    "        B[ic] = Z"
   ]
  },
  {
   "cell_type": "code",
   "execution_count": 157,
   "metadata": {},
   "outputs": [
    {
     "name": "stdout",
     "output_type": "stream",
     "text": [
      "E_iDMRG = -1.0635444099731841\n",
      "E_exact =  -1.063544409973372\n",
      "dE =  -1.7662613239749873e-11\n"
     ]
    }
   ],
   "source": [
    "#Вычисление Энергии#\n",
    "E=[]\n",
    "for i_bond in range(2):\n",
    "    BB = np.tensordot(B[i_bond],B[np.mod(i_bond+1,2)],axes=(2,1))\n",
    "    sBB = np.tensordot(np.diag(s[np.mod(i_bond-1,2)]),BB,axes=(1,1))\n",
    "    C = np.tensordot(sBB,np.reshape(H_bond,[d,d,d,d]),axes=([1,2],[2,3]))\n",
    "    E.append(np.squeeze(np.tensordot(np.conj(sBB),C,axes=([0,3,1,2],[0,1,2,3]))).item()) \n",
    "print(\"E_iDMRG =\", np.mean(E))\n",
    "\n",
    "\n",
    "f = lambda k,g : -2*np.sqrt(1+g**2-2*g*np.cos(k))/np.pi/2.  # ТОЧНОЕ РЕШЕНИЕ ! 1D Модель Изинга Беск. цепочка.\n",
    "E0_exact = integrate.quad(f, 0, np.pi, args=(g,))[0]        # ТОЧНОЕ ЗНАЧЕНИЕ МИНИМАЛЬНОЙ ЭНЕРГИИ ! \n",
    "print (\"E_exact = \", E0_exact)\n",
    "print('dE = ', (np.mean(E) - E0_exact)/E0_exact*100)"
   ]
  },
  {
   "cell_type": "code",
   "execution_count": 158,
   "metadata": {},
   "outputs": [
    {
     "data": {
      "text/plain": [
       "'НОВЫЕ ФУНКЦИИ\\nnp.tensordot\\nnp.item\\n'"
      ]
     },
     "execution_count": 158,
     "metadata": {},
     "output_type": "execute_result"
    }
   ],
   "source": [
    "'''НОВЫЕ ФУНКЦИИ\n",
    "np.tensordot\n",
    "np.item\n",
    "'''"
   ]
  },
  {
   "cell_type": "code",
   "execution_count": null,
   "metadata": {},
   "outputs": [],
   "source": []
  }
 ],
 "metadata": {
  "kernelspec": {
   "display_name": "Python 3",
   "language": "python",
   "name": "python3"
  },
  "language_info": {
   "codemirror_mode": {
    "name": "ipython",
    "version": 3
   },
   "file_extension": ".py",
   "mimetype": "text/x-python",
   "name": "python",
   "nbconvert_exporter": "python",
   "pygments_lexer": "ipython3",
   "version": "3.7.1"
  }
 },
 "nbformat": 4,
 "nbformat_minor": 2
}

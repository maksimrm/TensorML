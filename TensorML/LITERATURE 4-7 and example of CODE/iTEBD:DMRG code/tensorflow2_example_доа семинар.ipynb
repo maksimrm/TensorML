{
 "cells": [
  {
   "cell_type": "code",
   "execution_count": 87,
   "metadata": {},
   "outputs": [
    {
     "data": {
      "text/plain": [
       "'2.0.0'"
      ]
     },
     "execution_count": 87,
     "metadata": {},
     "output_type": "execute_result"
    }
   ],
   "source": [
    "import numpy as np\n",
    "import tensorflow as tf\n",
    "import matplotlib.pyplot as plt\n",
    "tf.__version__"
   ]
  },
  {
   "cell_type": "code",
   "execution_count": 88,
   "metadata": {},
   "outputs": [],
   "source": [
    "w = tf.Variable(tf.initializers.TruncatedNormal()(shape=[784, 100], dtype=tf.float64), name='w')\n",
    "n = tf.Variable(tf.initializers.TruncatedNormal()(shape=[100,], dtype=tf.float64), name='n')\n",
    "w1 = tf.Variable(tf.initializers.TruncatedNormal()(shape=[100, 10], dtype=tf.float64), name='w1')\n",
    "n1 = tf.Variable(tf.initializers.TruncatedNormal()(shape=[10,], dtype=tf.float64), name='n1')\n",
    "\n",
    "@tf.function\n",
    "def base_model(data):\n",
    "    return tf.nn.relu(data @ w + n) @ w1 + n1\n",
    "\n",
    "def create_batch(batch_num):\n",
    "    for bn in range(batch_num):\n",
    "        yield x_train[bn:bn+batch_size], y_train[bn:bn+batch_size]"
   ]
  },
  {
   "cell_type": "code",
   "execution_count": 89,
   "metadata": {},
   "outputs": [],
   "source": [
    "(x_train, y_train), (x_test, y_test) = tf.keras.datasets.mnist.load_data()\n",
    "x_train, x_test = np.reshape(x_train, (-1, 784))/255.0, np.reshape(x_test, (-1, 784))/255.0\n",
    "y_train, y_test = tf.one_hot(y_train, 10), tf.one_hot(y_test, 10)"
   ]
  },
  {
   "cell_type": "code",
   "execution_count": 90,
   "metadata": {},
   "outputs": [],
   "source": [
    "batch_num = 120\n",
    "batch_size = 500\n",
    "trainable_variables = [w, n, w1, n1]\n",
    "\n",
    "cross_entropy = tf.keras.losses.CategoricalCrossentropy()\n",
    "opt = tf.keras.optimizers.Adam(learning_rate=0.01)\n",
    "accuracy = tf.keras.metrics.CategoricalAccuracy()\n",
    "\n",
    "@tf.function\n",
    "def train_step(inputs, labels):\n",
    "    with tf.GradientTape() as tape:\n",
    "        predictions = tf.nn.softmax(base_model(inputs))\n",
    "        loss = cross_entropy(labels, predictions)\n",
    "    gradients = tape.gradient(loss, trainable_variables)\n",
    "    opt.apply_gradients(zip(gradients, trainable_variables))"
   ]
  },
  {
   "cell_type": "code",
   "execution_count": 91,
   "metadata": {},
   "outputs": [],
   "source": [
    "EPOCHS = 3\n",
    "accuracy_history = []\n",
    "\n",
    "for epoch in range(EPOCHS):\n",
    "    for x_train_batch, y_train_batch in create_batch(batch_num):\n",
    "        train_step(x_train_batch, y_train_batch)\n",
    "        prediction = tf.argmax(tf.nn.softmax(base_model(x_test)), axis=-1)\n",
    "        answers = tf.argmax(y_test, axis=-1)\n",
    "        accuracy.update_state(answers, prediction)\n",
    "        accuracy_history.append(accuracy.result().numpy())"
   ]
  },
  {
   "cell_type": "code",
   "execution_count": 92,
   "metadata": {},
   "outputs": [],
   "source": [
    "prediction = prediction.numpy()"
   ]
  },
  {
   "cell_type": "code",
   "execution_count": 93,
   "metadata": {},
   "outputs": [],
   "source": [
    "answers = answers.numpy()"
   ]
  },
  {
   "cell_type": "code",
   "execution_count": 94,
   "metadata": {},
   "outputs": [
    {
     "data": {
      "text/plain": [
       "[<matplotlib.lines.Line2D at 0x29cf3541e08>]"
      ]
     },
     "execution_count": 94,
     "metadata": {},
     "output_type": "execute_result"
    },
    {
     "data": {
      "image/png": "[encoded data removed]",
      "text/plain": [
       "<Figure size 432x288 with 1 Axes>"
      ]
     },
     "metadata": {
      "needs_background": "light"
     },
     "output_type": "display_data"
    }
   ],
   "source": [
    "plt.plot(accuracy_history)"
   ]
  },
  {
   "cell_type": "code",
   "execution_count": 95,
   "metadata": {},
   "outputs": [
    {
     "data": {
      "text/plain": [
       "Text(0.5, 1.0, 'Correct 5; Predicted 4')"
      ]
     },
     "execution_count": 95,
     "metadata": {},
     "output_type": "execute_result"
    },
    {
     "data": {
      "image/png": "[encoded data removed]",
      "text/plain": [
       "<Figure size 432x288 with 1 Axes>"
      ]
     },
     "metadata": {
      "needs_background": "light"
     },
     "output_type": "display_data"
    }
   ],
   "source": [
    "sample_num = 0\n",
    "plt.imshow(x_test[prediction!=answers][sample_num].reshape(28, 28))\n",
    "plt.title(r\"Correct {0}; Predicted {1}\".format(answers[prediction!=answers][sample_num],\n",
    "                                               prediction[prediction!=answers][sample_num]))"
   ]
  },
  {
   "cell_type": "code",
   "execution_count": null,
   "metadata": {},
   "outputs": [],
   "source": []
  }
 ],
 "metadata": {
  "kernelspec": {
   "display_name": "Python 3",
   "language": "python",
   "name": "python3"
  },
  "language_info": {
   "codemirror_mode": {
    "name": "ipython",
    "version": 3
   },
   "file_extension": ".py",
   "mimetype": "text/x-python",
   "name": "python",
   "nbconvert_exporter": "python",
   "pygments_lexer": "ipython3",
   "version": "3.7.4"
  }
 },
 "nbformat": 4,
 "nbformat_minor": 2
}

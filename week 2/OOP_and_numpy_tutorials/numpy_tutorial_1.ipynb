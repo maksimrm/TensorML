{
 "cells": [
  {
   "cell_type": "code",
   "execution_count": 1,
   "metadata": {
    "colab": {},
    "colab_type": "code",
    "id": "K7R_Rd8D7ET5"
   },
   "outputs": [],
   "source": [
    "x = [1, 2, 3] #Список (list)"
   ]
  },
  {
   "cell_type": "code",
   "execution_count": 2,
   "metadata": {
    "colab": {},
    "colab_type": "code",
    "id": "gCjfSSg27ET7"
   },
   "outputs": [],
   "source": [
    "for i, _ in enumerate(x): #'enumerate' возвращает и значения, и их номера в списке.\n",
    "    x[i] += 1"
   ]
  },
  {
   "cell_type": "code",
   "execution_count": 3,
   "metadata": {
    "colab": {},
    "colab_type": "code",
    "id": "3peJ3aGq7ET-",
    "outputId": "b2c13381-0efe-4af2-e535-7e3fee0be79c"
   },
   "outputs": [
    {
     "data": {
      "text/plain": [
       "[2, 3, 4]"
      ]
     },
     "execution_count": 3,
     "metadata": {},
     "output_type": "execute_result"
    }
   ],
   "source": [
    "x"
   ]
  },
  {
   "cell_type": "code",
   "execution_count": 4,
   "metadata": {
    "colab": {},
    "colab_type": "code",
    "id": "7uhUNTZo7EUW"
   },
   "outputs": [],
   "source": [
    "import numpy as np #Импортируем numpy и именуем его np для сокращения записей.\n",
    "#Имя может быть любым, но принято называть numpy именно np."
   ]
  },
  {
   "cell_type": "code",
   "execution_count": 5,
   "metadata": {
    "colab": {
     "base_uri": "https://localhost:8080/",
     "height": 35
    },
    "colab_type": "code",
    "executionInfo": {
     "elapsed": 1043,
     "status": "ok",
     "timestamp": 1568299691978,
     "user": {
      "displayName": "Илья Лучников",
      "photoUrl": "",
      "userId": "07148018383146700458"
     },
     "user_tz": -180
    },
    "id": "4kuAtYjF8iAV",
    "outputId": "bb18cc1c-829e-4692-8556-66ae4e37a645"
   },
   "outputs": [
    {
     "data": {
      "text/plain": [
       "[[1, 2, 3], [4, 5, 6]]"
      ]
     },
     "execution_count": 5,
     "metadata": {},
     "output_type": "execute_result"
    }
   ],
   "source": [
    "[[1, 2, 3], [4, 5, 6]] #Список списков. Вложенные списки можно интерпретировать как строки матрицы."
   ]
  },
  {
   "cell_type": "code",
   "execution_count": 6,
   "metadata": {
    "colab": {},
    "colab_type": "code",
    "id": "i2yvcWjK7EUY"
   },
   "outputs": [],
   "source": [
    "x = np.array([[1, 2, 3], [4, 5, 6]]) #Создаем объект класса 'numpy.ndarray' - основной класс numpy.\n",
    "#Это класс тензоров произвольного ранга, с которым нам предстоит работать большую часть курса."
   ]
  },
  {
   "cell_type": "code",
   "execution_count": 7,
   "metadata": {
    "colab": {
     "base_uri": "https://localhost:8080/",
     "height": 35
    },
    "colab_type": "code",
    "executionInfo": {
     "elapsed": 688,
     "status": "ok",
     "timestamp": 1568300223595,
     "user": {
      "displayName": "Илья Лучников",
      "photoUrl": "",
      "userId": "07148018383146700458"
     },
     "user_tz": -180
    },
    "id": "YKIyomB87EUb",
    "outputId": "5a14809a-54d6-4558-89b9-57f29544ad0c"
   },
   "outputs": [
    {
     "data": {
      "text/plain": [
       "(2, 3)"
      ]
     },
     "execution_count": 7,
     "metadata": {},
     "output_type": "execute_result"
    }
   ],
   "source": [
    "x.shape #Атрибут, содержащий размерность тензора."
   ]
  },
  {
   "cell_type": "code",
   "execution_count": 8,
   "metadata": {
    "colab": {},
    "colab_type": "code",
    "id": "B6R28KYt7EUd"
   },
   "outputs": [],
   "source": [
    "y = x.reshape((1, 6)) #Метод позволяет изменить исходную размерность тензора на нужную.\n",
    "#В данном случае был тензор размерности (2, 3) стал (1, 6)."
   ]
  },
  {
   "cell_type": "code",
   "execution_count": 9,
   "metadata": {
    "colab": {
     "base_uri": "https://localhost:8080/",
     "height": 35
    },
    "colab_type": "code",
    "executionInfo": {
     "elapsed": 690,
     "status": "ok",
     "timestamp": 1568300375800,
     "user": {
      "displayName": "Илья Лучников",
      "photoUrl": "",
      "userId": "07148018383146700458"
     },
     "user_tz": -180
    },
    "id": "m1p76-RK7EUh",
    "outputId": "c6bb6c88-0616-4cdb-978a-c1386183ed78"
   },
   "outputs": [
    {
     "data": {
      "text/plain": [
       "(1, 6)"
      ]
     },
     "execution_count": 9,
     "metadata": {},
     "output_type": "execute_result"
    }
   ],
   "source": [
    "y.shape"
   ]
  },
  {
   "cell_type": "code",
   "execution_count": 10,
   "metadata": {
    "colab": {},
    "colab_type": "code",
    "id": "gpLWetzc7EUm"
   },
   "outputs": [],
   "source": [
    "y = x.transpose((1, 0)) #Меняет местами порядок размерностей.\n",
    "#В данном случае первая размерность становится нулевой, а нулевая - первой."
   ]
  },
  {
   "cell_type": "code",
   "execution_count": 11,
   "metadata": {
    "colab": {
     "base_uri": "https://localhost:8080/",
     "height": 35
    },
    "colab_type": "code",
    "executionInfo": {
     "elapsed": 644,
     "status": "ok",
     "timestamp": 1568300459777,
     "user": {
      "displayName": "Илья Лучников",
      "photoUrl": "",
      "userId": "07148018383146700458"
     },
     "user_tz": -180
    },
    "id": "-waYKBXP7EUt",
    "outputId": "ac743d6c-34cd-4d1f-f918-66e11e6a1970"
   },
   "outputs": [
    {
     "data": {
      "text/plain": [
       "(3, 2)"
      ]
     },
     "execution_count": 11,
     "metadata": {},
     "output_type": "execute_result"
    }
   ],
   "source": [
    "y.shape"
   ]
  },
  {
   "cell_type": "code",
   "execution_count": 12,
   "metadata": {},
   "outputs": [],
   "source": [
    "z = np.matmul(x, y) #Матричное произведение."
   ]
  },
  {
   "cell_type": "code",
   "execution_count": 13,
   "metadata": {},
   "outputs": [
    {
     "data": {
      "text/plain": [
       "(2, 2)"
      ]
     },
     "execution_count": 13,
     "metadata": {},
     "output_type": "execute_result"
    }
   ],
   "source": [
    "z.shape"
   ]
  },
  {
   "cell_type": "code",
   "execution_count": 14,
   "metadata": {
    "colab": {},
    "colab_type": "code",
    "id": "Cg0IjlO37EUv"
   },
   "outputs": [],
   "source": [
    "x = np.zeros((1, 2, 3, 4, 5)) #Создает тензор заданной размерности, заполненый нулями."
   ]
  },
  {
   "cell_type": "code",
   "execution_count": 15,
   "metadata": {
    "colab": {
     "base_uri": "https://localhost:8080/",
     "height": 35
    },
    "colab_type": "code",
    "executionInfo": {
     "elapsed": 709,
     "status": "ok",
     "timestamp": 1568300530994,
     "user": {
      "displayName": "Илья Лучников",
      "photoUrl": "",
      "userId": "07148018383146700458"
     },
     "user_tz": -180
    },
    "id": "VAZ9ruus7EU1",
    "outputId": "b7319f4e-6958-4c9a-c518-735d62b5c6a2"
   },
   "outputs": [
    {
     "data": {
      "text/plain": [
       "(1, 2, 3, 4, 5)"
      ]
     },
     "execution_count": 15,
     "metadata": {},
     "output_type": "execute_result"
    }
   ],
   "source": [
    "x.shape"
   ]
  },
  {
   "cell_type": "code",
   "execution_count": 16,
   "metadata": {
    "colab": {},
    "colab_type": "code",
    "id": "iPup4fES_yDO"
   },
   "outputs": [],
   "source": [
    "y = x.transpose((0, 3, 2, 1, 4)) #Меняем местами порядок размерностей. Результат ниже.\n",
    "#Применительно к MPA мы транспонировали физические размерности, не трогая bond dimensions."
   ]
  },
  {
   "cell_type": "code",
   "execution_count": 18,
   "metadata": {
    "colab": {
     "base_uri": "https://localhost:8080/",
     "height": 35
    },
    "colab_type": "code",
    "executionInfo": {
     "elapsed": 912,
     "status": "ok",
     "timestamp": 1568300871720,
     "user": {
      "displayName": "Илья Лучников",
      "photoUrl": "",
      "userId": "07148018383146700458"
     },
     "user_tz": -180
    },
    "id": "255_rXp5_yOP",
    "outputId": "899c1983-6a3e-490d-fad0-44dcc9593b8a"
   },
   "outputs": [
    {
     "data": {
      "text/plain": [
       "4"
      ]
     },
     "execution_count": 18,
     "metadata": {},
     "output_type": "execute_result"
    }
   ],
   "source": [
    "len(y.shape)-1"
   ]
  },
  {
   "cell_type": "code",
   "execution_count": 19,
   "metadata": {},
   "outputs": [
    {
     "data": {
      "text/plain": [
       "(1, 4, 3, 2, 5)"
      ]
     },
     "execution_count": 19,
     "metadata": {},
     "output_type": "execute_result"
    }
   ],
   "source": [
    "y.shape"
   ]
  },
  {
   "cell_type": "code",
   "execution_count": 76,
   "metadata": {
    "colab": {},
    "colab_type": "code",
    "id": "hQt-rRkoBGBt"
   },
   "outputs": [],
   "source": [
    "z = y.reshape((1, 24, 5)) #Свернули все физические индексы в один мультииндекс."
   ]
  },
  {
   "cell_type": "code",
   "execution_count": 77,
   "metadata": {
    "colab": {
     "base_uri": "https://localhost:8080/",
     "height": 35
    },
    "colab_type": "code",
    "executionInfo": {
     "elapsed": 828,
     "status": "ok",
     "timestamp": 1568300926838,
     "user": {
      "displayName": "Илья Лучников",
      "photoUrl": "",
      "userId": "07148018383146700458"
     },
     "user_tz": -180
    },
    "id": "jijqrwsSBPX0",
    "outputId": "e9c994f0-d9cf-455c-f8ac-a9d95fde9b78"
   },
   "outputs": [
    {
     "data": {
      "text/plain": [
       "(1, 24, 5)"
      ]
     },
     "execution_count": 77,
     "metadata": {},
     "output_type": "execute_result"
    }
   ],
   "source": [
    "z.shape"
   ]
  },
  {
   "cell_type": "code",
   "execution_count": 78,
   "metadata": {
    "colab": {},
    "colab_type": "code",
    "id": "Bazq-Wyb7EU7"
   },
   "outputs": [],
   "source": [
    "a = np.random.rand(1, 2, 3, 4, 5, 6) #Создаем тензор заданной размерности, заполненый случайными числами,\n",
    "#распределенными равномерно на промежутке [0, 1]."
   ]
  },
  {
   "cell_type": "code",
   "execution_count": 79,
   "metadata": {
    "colab": {},
    "colab_type": "code",
    "id": "ZqupTU-z7EU-",
    "outputId": "b215c3c7-6971-4512-e3c2-8ac863c67042"
   },
   "outputs": [
    {
     "data": {
      "text/plain": [
       "(4, 3, 1, 2, 6, 5)"
      ]
     },
     "execution_count": 79,
     "metadata": {},
     "output_type": "execute_result"
    }
   ],
   "source": [
    "a.transpose(3, 2, 0, 1, 5, 4).shape #Ещё один пример транспонирования"
   ]
  },
  {
   "cell_type": "code",
   "execution_count": 80,
   "metadata": {
    "colab": {},
    "colab_type": "code",
    "id": "bM6TOvleBmxD"
   },
   "outputs": [],
   "source": [
    "A = np.random.randn(1, 2, 3, 4, 5) #Создаем тензор заданной размерности, заполненый случайными числами,\n",
    "#распределенными нормально со средним '0' и дисперсией '1'."
   ]
  },
  {
   "cell_type": "code",
   "execution_count": 81,
   "metadata": {
    "colab": {},
    "colab_type": "code",
    "id": "uupGU3mPCOFI"
   },
   "outputs": [],
   "source": [
    "B = A.transpose((0, 3, 2, 1, 4)) #Транспонируем"
   ]
  },
  {
   "cell_type": "code",
   "execution_count": 82,
   "metadata": {
    "colab": {
     "base_uri": "https://localhost:8080/",
     "height": 35
    },
    "colab_type": "code",
    "executionInfo": {
     "elapsed": 620,
     "status": "ok",
     "timestamp": 1568301781695,
     "user": {
      "displayName": "Илья Лучников",
      "photoUrl": "",
      "userId": "07148018383146700458"
     },
     "user_tz": -180
    },
    "id": "dXzIew4aCkUW",
    "outputId": "72e6f9bb-0b10-4c64-e454-2bee8d710243"
   },
   "outputs": [
    {
     "data": {
      "text/plain": [
       "(1, 2, 3, 4, 5)"
      ]
     },
     "execution_count": 82,
     "metadata": {},
     "output_type": "execute_result"
    }
   ],
   "source": [
    "A.shape"
   ]
  },
  {
   "cell_type": "code",
   "execution_count": 83,
   "metadata": {
    "colab": {
     "base_uri": "https://localhost:8080/",
     "height": 35
    },
    "colab_type": "code",
    "executionInfo": {
     "elapsed": 615,
     "status": "ok",
     "timestamp": 1568301786206,
     "user": {
      "displayName": "Илья Лучников",
      "photoUrl": "",
      "userId": "07148018383146700458"
     },
     "user_tz": -180
    },
    "id": "RTtueETFEg_F",
    "outputId": "e040ac66-08cd-419b-9ebc-f660dfd304c7"
   },
   "outputs": [
    {
     "data": {
      "text/plain": [
       "(1, 4, 3, 2, 5)"
      ]
     },
     "execution_count": 83,
     "metadata": {},
     "output_type": "execute_result"
    }
   ],
   "source": [
    "B.shape"
   ]
  },
  {
   "cell_type": "code",
   "execution_count": 84,
   "metadata": {
    "colab": {},
    "colab_type": "code",
    "id": "-m0R9Hn7EiFp"
   },
   "outputs": [],
   "source": [
    "z = np.einsum('ijklm,alkje->iame', A, B) #Выполняет свертку по повторяющимся индексам и\n",
    "#располагает индексы результата в заданом порядке."
   ]
  },
  {
   "cell_type": "code",
   "execution_count": 85,
   "metadata": {
    "colab": {
     "base_uri": "https://localhost:8080/",
     "height": 35
    },
    "colab_type": "code",
    "executionInfo": {
     "elapsed": 890,
     "status": "ok",
     "timestamp": 1568302380011,
     "user": {
      "displayName": "Илья Лучников",
      "photoUrl": "",
      "userId": "07148018383146700458"
     },
     "user_tz": -180
    },
    "id": "Qq-7ohOwGx2J",
    "outputId": "e2d35c07-7758-4e2d-b7eb-d5d7c4fccc4c"
   },
   "outputs": [
    {
     "data": {
      "text/plain": [
       "(1, 1, 5, 5)"
      ]
     },
     "execution_count": 85,
     "metadata": {},
     "output_type": "execute_result"
    }
   ],
   "source": [
    "z.shape"
   ]
  },
  {
   "cell_type": "code",
   "execution_count": 0,
   "metadata": {
    "colab": {},
    "colab_type": "code",
    "id": "WI5L5fURGy_W"
   },
   "outputs": [],
   "source": []
  }
 ],
 "metadata": {
  "colab": {
   "name": "lecture_python_basics.ipynb",
   "provenance": [],
   "version": "0.3.2"
  },
  "kernelspec": {
   "display_name": "Python 3",
   "language": "python",
   "name": "python3"
  },
  "language_info": {
   "codemirror_mode": {
    "name": "ipython",
    "version": 3
   },
   "file_extension": ".py",
   "mimetype": "text/x-python",
   "name": "python",
   "nbconvert_exporter": "python",
   "pygments_lexer": "ipython3",
   "version": "3.7.3"
  }
 },
 "nbformat": 4,
 "nbformat_minor": 1
}

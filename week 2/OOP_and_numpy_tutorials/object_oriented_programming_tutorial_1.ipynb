{
 "cells": [
  {
   "cell_type": "code",
   "execution_count": 44,
   "metadata": {
    "colab": {},
    "colab_type": "code",
    "id": "96LplODd2D7K"
   },
   "outputs": [],
   "source": [
    "class SimpleClass: #Объявляем новый класс\n",
    "  \n",
    "    def __init__(self, num, mod):\n",
    "        \"\"\"Этот метод (так называются функции в контексте ООП) вызывается при создании нового объекта класса.\n",
    "        'self' - переменная, в которую передается создаваемый объект класса.\n",
    "        \"\"\"\n",
    "        self.num = num #Задаем атрибут 'num'\n",
    "        self.mod = mod #Задаем атрибут 'mod'\n",
    "    \n",
    "    def add(self, other):\n",
    "        \"\"\"Описываем метод сложения.\n",
    "        \"\"\"\n",
    "        result = (self.num + other.num)%self.mod #Формируем результат, используя атрибуты складываемых объектов.\n",
    "        return SimpleClass(result, self.mod) #Возвращаем не апросто число, а объект нашего класса, \n",
    "                                            #чтобы операция сложения оказалась замкнута на множестве объектов этого класса.\n",
    "  \n",
    "    def __repr__(self):\n",
    "        \"\"\"Метод отвечает за то, как будет отображатся объект класса при его выводе на экран (печати в консоли).\n",
    "        \"\"\"\n",
    "        return str(self.num) #Возвращаем объект типа 'str' - строка."
   ]
  },
  {
   "cell_type": "code",
   "execution_count": 45,
   "metadata": {
    "colab": {},
    "colab_type": "code",
    "id": "NQtseVo34RiI"
   },
   "outputs": [],
   "source": [
    "x = SimpleClass(5, 3) #Создаем объект 'x' класса 'SimpleClass'. \n",
    "#Создаваемый объект 'x' автоматически передается в переменную 'self' метода '__init__'."
   ]
  },
  {
   "cell_type": "code",
   "execution_count": 47,
   "metadata": {},
   "outputs": [
    {
     "data": {
      "text/plain": [
       "5"
      ]
     },
     "execution_count": 47,
     "metadata": {},
     "output_type": "execute_result"
    }
   ],
   "source": [
    "x #Отображаем 'x' (неявно вызывается x.__repr__())"
   ]
  },
  {
   "cell_type": "code",
   "execution_count": 42,
   "metadata": {
    "colab": {},
    "colab_type": "code",
    "id": "IZtvFnPY4hEM"
   },
   "outputs": [],
   "source": [
    "y = SimpleClass(6, 3) #Создаем объект 'y' класса 'SimpleClass'. \n",
    "#Создаваемый объект 'y' автоматически передается в переменную 'self' метода '__init__'."
   ]
  },
  {
   "cell_type": "code",
   "execution_count": 43,
   "metadata": {
    "colab": {},
    "colab_type": "code",
    "id": "yhKj_7DH48rg"
   },
   "outputs": [],
   "source": [
    "z = x.add(y) #Вызываем метод 'add'. 'x' передается в переменную 'self' метода 'add'."
   ]
  },
  {
   "cell_type": "code",
   "execution_count": 6,
   "metadata": {
    "colab": {
     "base_uri": "https://localhost:8080/",
     "height": 34
    },
    "colab_type": "code",
    "executionInfo": {
     "elapsed": 720,
     "status": "ok",
     "timestamp": 1568299033025,
     "user": {
      "displayName": "Илья Лучников",
      "photoUrl": "",
      "userId": "07148018383146700458"
     },
     "user_tz": -180
    },
    "id": "22w2Jkfd5QH8",
    "outputId": "f56588e2-597b-4242-9b6e-7c6c59d7c16f"
   },
   "outputs": [
    {
     "name": "stdout",
     "output_type": "stream",
     "text": [
      "2\n"
     ]
    }
   ],
   "source": [
    "print(z) #Отображаем 'z' (неявно вызывается z.__repr__())"
   ]
  },
  {
   "cell_type": "code",
   "execution_count": 7,
   "metadata": {
    "colab": {
     "base_uri": "https://localhost:8080/",
     "height": 34
    },
    "colab_type": "code",
    "executionInfo": {
     "elapsed": 671,
     "status": "ok",
     "timestamp": 1568299173995,
     "user": {
      "displayName": "Илья Лучников",
      "photoUrl": "",
      "userId": "07148018383146700458"
     },
     "user_tz": -180
    },
    "id": "1b3_k79r5Syh",
    "outputId": "4d0fb288-2690-42d4-bff5-7717b83cba50"
   },
   "outputs": [
    {
     "data": {
      "text/plain": [
       "2"
      ]
     },
     "execution_count": 7,
     "metadata": {},
     "output_type": "execute_result"
    }
   ],
   "source": [
    "z.num #Через точку можно не только вызывать методы, но и получать значения атрибутов объекта."
   ]
  },
  {
   "cell_type": "code",
   "execution_count": 8,
   "metadata": {
    "colab": {},
    "colab_type": "code",
    "id": "kP2TMvbf6hJU"
   },
   "outputs": [],
   "source": [
    "z.num = 3 #Ещё можно присваивать атрибутам объекта новые значения."
   ]
  },
  {
   "cell_type": "code",
   "execution_count": 9,
   "metadata": {
    "colab": {},
    "colab_type": "code",
    "id": "al8-xhS36jfi"
   },
   "outputs": [
    {
     "data": {
      "text/plain": [
       "3"
      ]
     },
     "execution_count": 9,
     "metadata": {},
     "output_type": "execute_result"
    }
   ],
   "source": [
    "z.num"
   ]
  }
 ],
 "metadata": {
  "colab": {
   "name": "test.ipynb",
   "provenance": [],
   "version": "0.3.2"
  },
  "kernelspec": {
   "display_name": "Python 3",
   "language": "python",
   "name": "python3"
  },
  "language_info": {
   "codemirror_mode": {
    "name": "ipython",
    "version": 3
   },
   "file_extension": ".py",
   "mimetype": "text/x-python",
   "name": "python",
   "nbconvert_exporter": "python",
   "pygments_lexer": "ipython3",
   "version": "3.6.5"
  }
 },
 "nbformat": 4,
 "nbformat_minor": 1
}
